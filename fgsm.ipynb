{
  "nbformat": 4,
  "nbformat_minor": 0,
  "metadata": {
    "kernelspec": {
      "name": "python3",
      "display_name": "Python 3"
    },
    "language_info": {
      "codemirror_mode": {
        "name": "ipython",
        "version": 3
      },
      "file_extension": ".py",
      "mimetype": "text/x-python",
      "name": "python",
      "nbconvert_exporter": "python",
      "pygments_lexer": "ipython3",
      "version": "3.6.1"
    },
    "colab": {
      "name": "fgsm.ipynb",
      "provenance": []
    },
    "accelerator": "GPU"
  },
  "cells": [
    {
      "cell_type": "code",
      "metadata": {
        "id": "-bBluZ0CRXCy",
        "colab_type": "code",
        "outputId": "4519661b-643f-4da9-d23a-f575cfbdc1e0",
        "colab": {
          "base_uri": "https://localhost:8080/",
          "height": 140
        }
      },
      "source": [
        "!git clone -l -s https://github.com/vartult/Traffic_Sign.git"
      ],
      "execution_count": 0,
      "outputs": [
        {
          "output_type": "stream",
          "text": [
            "Cloning into 'Traffic_Sign'...\n",
            "warning: --local is ignored\n",
            "remote: Enumerating objects: 7338, done.\u001b[K\n",
            "remote: Total 7338 (delta 0), reused 0 (delta 0), pack-reused 7338\u001b[K\n",
            "Receiving objects: 100% (7338/7338), 245.48 MiB | 7.08 MiB/s, done.\n",
            "Resolving deltas: 100% (2/2), done.\n",
            "Checking out files: 100% (7221/7221), done.\n"
          ],
          "name": "stdout"
        }
      ]
    },
    {
      "cell_type": "code",
      "metadata": {
        "id": "yMiSpWJfI_Uc",
        "colab_type": "code",
        "outputId": "7b0ce817-3f9e-4e30-f63e-3466ff2cab34",
        "colab": {
          "base_uri": "https://localhost:8080/",
          "height": 81
        }
      },
      "source": [
        "import numpy as np\n",
        "import tensorflow as tf\n",
        "\n",
        "import os\n",
        "import skimage.data\n",
        "import skimage.transform\n",
        "\n",
        "from keras.layers import Dense, Dropout, Flatten, Input\n",
        "from keras.layers import Conv2D, MaxPooling2D\n",
        "from keras.layers import BatchNormalization\n",
        "from keras.optimizers import Adam\n",
        "from keras.models import Sequential\n",
        "\n",
        "import matplotlib\n",
        "import matplotlib.pyplot as plt"
      ],
      "execution_count": 0,
      "outputs": [
        {
          "output_type": "display_data",
          "data": {
            "text/html": [
              "<p style=\"color: red;\">\n",
              "The default version of TensorFlow in Colab will soon switch to TensorFlow 2.x.<br>\n",
              "We recommend you <a href=\"https://www.tensorflow.org/guide/migrate\" target=\"_blank\">upgrade</a> now \n",
              "or ensure your notebook will continue to use TensorFlow 1.x via the <code>%tensorflow_version 1.x</code> magic:\n",
              "<a href=\"https://colab.research.google.com/notebooks/tensorflow_version.ipynb\" target=\"_blank\">more info</a>.</p>\n"
            ],
            "text/plain": [
              "<IPython.core.display.HTML object>"
            ]
          },
          "metadata": {
            "tags": []
          }
        },
        {
          "output_type": "stream",
          "text": [
            "Using TensorFlow backend.\n"
          ],
          "name": "stderr"
        }
      ]
    },
    {
      "cell_type": "code",
      "metadata": {
        "id": "G9759bOUI_Uh",
        "colab_type": "code",
        "colab": {}
      },
      "source": [
        "def load_data(data_dir):\n",
        "\n",
        "    directories = [d for d in os.listdir(data_dir) \n",
        "                   if os.path.isdir(os.path.join(data_dir, d))]\n",
        "\n",
        "    labels = []\n",
        "    images = []\n",
        "    for d in directories:\n",
        "        label_dir = os.path.join(data_dir, d)\n",
        "        file_names = [os.path.join(label_dir, f) \n",
        "                      for f in os.listdir(label_dir) if f.endswith(\".ppm\")]\n",
        "        for f in file_names:\n",
        "            images.append(skimage.data.imread(f))\n",
        "            labels.append(int(d))\n",
        "    return images, labels\n",
        "ROOT_PATH = \"/content/Traffic_Sign\"\n",
        "train_data_dir = os.path.join(ROOT_PATH, \"Training\")\n",
        "test_data_dir = os.path.join(ROOT_PATH, \"Testing\")\n",
        "\n",
        "images, labels = load_data(train_data_dir)\n",
        "\n",
        "\n"
      ],
      "execution_count": 0,
      "outputs": []
    },
    {
      "cell_type": "code",
      "metadata": {
        "id": "K7oiLbLm2NtJ",
        "colab_type": "code",
        "outputId": "a98c3be4-6e34-49a2-a1f5-ecf0ab8a869a",
        "colab": {
          "base_uri": "https://localhost:8080/",
          "height": 34
        }
      },
      "source": [
        "print(labels[10])"
      ],
      "execution_count": 0,
      "outputs": [
        {
          "output_type": "stream",
          "text": [
            "53\n"
          ],
          "name": "stdout"
        }
      ]
    },
    {
      "cell_type": "code",
      "metadata": {
        "id": "0_tWYF3jI_Um",
        "colab_type": "code",
        "outputId": "0dbb1376-8146-4256-ea25-724dd3e1de37",
        "colab": {
          "base_uri": "https://localhost:8080/",
          "height": 105
        }
      },
      "source": [
        "images32 = [skimage.transform.resize(image, (32, 32), mode='constant') for image in images]\n",
        "# Prepare the training dataset\n",
        "labels_a = np.array(labels)\n",
        "images_a = np.array(images32)\n",
        "print(\"labels: \", labels_a.shape, \"\\nimages: \", images_a.shape)\n",
        "\n",
        "factor = 0.95\n",
        "tr = int(len(labels)*factor)\n",
        "\n",
        "X_dat = images_a\n",
        "Y_dat = np.zeros((len(labels),62))\n",
        "Y_dat[np.arange(len(labels)),labels] = 1\n",
        "print(\"labels: \", Y_dat.shape, \"\\nimages: \", X_dat.shape)\n",
        "\n",
        "X_train = X_dat\n",
        "y_train = Y_dat\n",
        "\n",
        "print(y_train.shape)"
      ],
      "execution_count": 0,
      "outputs": [
        {
          "output_type": "stream",
          "text": [
            "labels:  (4575,) \n",
            "images:  (4575, 32, 32, 3)\n",
            "labels:  (4575, 62) \n",
            "images:  (4575, 32, 32, 3)\n",
            "(4575, 62)\n"
          ],
          "name": "stdout"
        }
      ]
    },
    {
      "cell_type": "code",
      "metadata": {
        "id": "JoVvyoOQI_Ut",
        "colab_type": "code",
        "outputId": "76f5bee4-cbe6-4dfe-d02a-750b18b0e54c",
        "colab": {
          "base_uri": "https://localhost:8080/",
          "height": 87
        }
      },
      "source": [
        "# Prepare the test dataset.\n",
        "test_images, test_labels = load_data(test_data_dir)\n",
        "\n",
        "# Transform the images, just like we did with the training set.\n",
        "test_images32 = [skimage.transform.resize(image, (32, 32), mode='constant') for image in test_images]\n",
        "\n",
        "test_labels = np.array(test_labels)\n",
        "test_images32 = np.array(test_images32)\n",
        "print(\"labels: \", test_labels.shape, \"\\nimages: \", test_images32.shape)\n",
        "\n",
        "X_test = test_images32\n",
        "y_test = np.zeros((len(test_labels),62))\n",
        "y_test[np.arange(len(test_labels)),test_labels] = 1\n",
        "print(\"labels: \", y_test.shape, \"\\nimages: \", X_test.shape)"
      ],
      "execution_count": 0,
      "outputs": [
        {
          "output_type": "stream",
          "text": [
            "labels:  (2520,) \n",
            "images:  (2520, 32, 32, 3)\n",
            "labels:  (2520, 62) \n",
            "images:  (2520, 32, 32, 3)\n"
          ],
          "name": "stdout"
        }
      ]
    },
    {
      "cell_type": "code",
      "metadata": {
        "id": "6kH38ipGI_Ux",
        "colab_type": "code",
        "colab": {}
      },
      "source": [
        "def model(x, logits=False, training=False):\n",
        "\n",
        "    with tf.variable_scope('conv0'):\n",
        "        z = tf.layers.conv2d(x, filters=32, kernel_size=[3, 3], padding='same', activation=tf.nn.relu)\n",
        "        z = tf.layers.max_pooling2d(z, pool_size=[2, 2], strides=2)\n",
        "\n",
        "    with tf.variable_scope('conv1'):\n",
        "        z = tf.layers.conv2d(z, filters=64, kernel_size=[3, 3], padding='same', activation=tf.nn.relu)\n",
        "        z = tf.layers.max_pooling2d(z, pool_size=[2, 2], strides=2)\n",
        "\n",
        "    with tf.variable_scope('flat'):\n",
        "        shape = z.get_shape().as_list()\n",
        "        z = tf.reshape(z, [-1, np.prod(shape[1:])])\n",
        "\n",
        "    with tf.variable_scope('dense'):\n",
        "        z = tf.layers.dense(z, units=128, activation=tf.nn.relu)\n",
        "        z = tf.layers.dropout(z, rate=0.25)\n",
        "\n",
        "    logits_ = tf.layers.dense(z, units=62, name='logits')\n",
        "    y = tf.nn.softmax(logits_, name='ybar')\n",
        "\n",
        "    if logits == True: #if logits is True\n",
        "        return y, logits_\n",
        "    return y "
      ],
      "execution_count": 0,
      "outputs": []
    },
    {
      "cell_type": "code",
      "metadata": {
        "id": "DrFpmB7aI_U2",
        "colab_type": "code",
        "colab": {}
      },
      "source": [
        "def fgm(model, x, eps=0.01, epochs=1, sign=True, clip_min=0, clip_max=1):\n",
        "    xadv = tf.identity(x)\n",
        "    ybar = model(xadv) # returns 10x1 matrix, each number is between 0 and 1\n",
        "\n",
        "    indices = tf.argmax(ybar, axis=1) #returns max index\n",
        "    target = tf.one_hot(indices, 62, on_value=1.0, off_value=0.0)\n",
        "    eps = tf.abs(eps)\n",
        "\n",
        "    def _cond(xadv, i):\n",
        "        return tf.less(i, epochs)\n",
        "\n",
        "    def _body(xadv, i):\n",
        "        ybar, logits = model(xadv, logits=True)\n",
        "        loss = tf.nn.softmax_cross_entropy_with_logits(labels=target, logits=logits)\n",
        "        dy_dx, = tf.gradients(loss, xadv)\n",
        "        xadv = tf.stop_gradient(xadv + eps*tf.sign(dy_dx))\n",
        "        xadv = tf.clip_by_value(xadv, clip_min, clip_max)\n",
        "        return xadv, i+1\n",
        "\n",
        "    xadv, _ = tf.while_loop(_cond, _body, (xadv, 0), back_prop=False, name='fast_gradient')\n",
        "    return xadv"
      ],
      "execution_count": 0,
      "outputs": []
    },
    {
      "cell_type": "code",
      "metadata": {
        "id": "1c14X3rUI_U7",
        "colab_type": "code",
        "outputId": "cf18923a-5d5f-4f7f-eb0a-0439dee8ea31",
        "colab": {
          "base_uri": "https://localhost:8080/",
          "height": 442
        }
      },
      "source": [
        "#tf.reset_default_graph() \n",
        "\n",
        "class Environment():\n",
        "    pass\n",
        "\n",
        "env = Environment()\n",
        "\n",
        "with tf.variable_scope('model', reuse=False):\n",
        "    env.x = tf.placeholder(tf.float32, (None, 32, 32, 3))\n",
        "    env.y = tf.placeholder(tf.float32, (None, 62), name='y')\n",
        "\n",
        "    env.ybar, logits = model(env.x, logits=True)\n",
        "\n",
        "    with tf.variable_scope('acc'):\n",
        "        count = tf.equal(tf.argmax(env.y, axis=1), tf.argmax(env.ybar, axis=1))\n",
        "        env.acc = tf.reduce_mean(tf.cast(count, tf.float32), name='acc')\n",
        "\n",
        "    with tf.variable_scope('loss'):\n",
        "        cross_entropy = tf.nn.softmax_cross_entropy_with_logits(labels=env.y, logits=logits)\n",
        "        env.loss = tf.reduce_mean(cross_entropy, name='loss')\n",
        "\n",
        "    with tf.variable_scope('train_op'):\n",
        "        optimizer = tf.train.AdamOptimizer()\n",
        "        env.train_op = optimizer.minimize(env.loss)\n",
        "\n",
        "with tf.variable_scope('model', reuse=True):\n",
        "    env.fgsm_eps = tf.placeholder(tf.float32, (), name='fgsm_eps')\n",
        "    env.fgsm_epochs = tf.placeholder(tf.int32, (), name='fgsm_epochs')\n",
        "    env.x_fgsm = fgm(model, env.x, epochs=env.fgsm_epochs, eps=env.fgsm_eps)"
      ],
      "execution_count": 0,
      "outputs": [
        {
          "output_type": "stream",
          "text": [
            "WARNING:tensorflow:From <ipython-input-6-9f447fedda57>:4: conv2d (from tensorflow.python.layers.convolutional) is deprecated and will be removed in a future version.\n",
            "Instructions for updating:\n",
            "Use `tf.keras.layers.Conv2D` instead.\n",
            "WARNING:tensorflow:From /usr/local/lib/python3.6/dist-packages/tensorflow_core/python/layers/convolutional.py:424: Layer.apply (from tensorflow.python.keras.engine.base_layer) is deprecated and will be removed in a future version.\n",
            "Instructions for updating:\n",
            "Please use `layer.__call__` method instead.\n",
            "WARNING:tensorflow:From <ipython-input-6-9f447fedda57>:5: max_pooling2d (from tensorflow.python.layers.pooling) is deprecated and will be removed in a future version.\n",
            "Instructions for updating:\n",
            "Use keras.layers.MaxPooling2D instead.\n",
            "WARNING:tensorflow:From <ipython-input-6-9f447fedda57>:16: dense (from tensorflow.python.layers.core) is deprecated and will be removed in a future version.\n",
            "Instructions for updating:\n",
            "Use keras.layers.Dense instead.\n",
            "WARNING:tensorflow:From <ipython-input-6-9f447fedda57>:17: dropout (from tensorflow.python.layers.core) is deprecated and will be removed in a future version.\n",
            "Instructions for updating:\n",
            "Use keras.layers.dropout instead.\n",
            "WARNING:tensorflow:From <ipython-input-8-ec9760b5d7ff>:18: softmax_cross_entropy_with_logits (from tensorflow.python.ops.nn_ops) is deprecated and will be removed in a future version.\n",
            "Instructions for updating:\n",
            "\n",
            "Future major versions of TensorFlow will allow gradients to flow\n",
            "into the labels input on backprop by default.\n",
            "\n",
            "See `tf.nn.softmax_cross_entropy_with_logits_v2`.\n",
            "\n"
          ],
          "name": "stdout"
        }
      ]
    },
    {
      "cell_type": "code",
      "metadata": {
        "id": "D7mYDtzWI_U_",
        "colab_type": "code",
        "colab": {}
      },
      "source": [
        "def training(sess, env, X_data, Y_data, shuffle=True, batch=32, epochs=1):\n",
        "\tXshape = X_data.shape\n",
        "\tn_data = Xshape[0]\n",
        "\tn_batches = int(n_data/batch)\n",
        "\n",
        "\tprint(X_data.shape)\n",
        "\n",
        "\n",
        "\tfor ep in range(epochs):\n",
        "\t\tprint('epoch number: ', ep+1)\n",
        "\t\tif shuffle:\n",
        "\t\t\tind = np.arange(n_data)\n",
        "\t\t\tnp.random.shuffle(ind)\n",
        "\t\t\tX_data = X_data[ind]\n",
        "\t\t\tY_data = Y_data[ind]\n",
        "\n",
        "\t\tfor i in range(n_batches):\n",
        "\t\t\tprint(' batch {0}/{1}'.format(i + 1, n_batches), end='\\r')\n",
        "\t\t\tstart = i*batch \n",
        "\t\t\tend = min(start+batch, n_data)\n",
        "\n",
        "\t\t\tsess.run(env.train_op, feed_dict={env.x: X_data[start:end], env.y: Y_data[start:end]})\n",
        "\n",
        "\t\tevaluate(sess, env, X_test, y_test)\n",
        "\t\t\n",
        "        "
      ],
      "execution_count": 0,
      "outputs": []
    },
    {
      "cell_type": "code",
      "metadata": {
        "id": "lUEqBnDxI_VE",
        "colab_type": "code",
        "colab": {}
      },
      "source": [
        "def evaluate(sess, env, X_test, Y_test, batch=32):\n",
        "\tn_data = X_test.shape[0]\n",
        "\tn_batches = int(n_data/batch)\n",
        "\n",
        "\ttotalAcc = 0\n",
        "\ttotalLoss = 0\n",
        "\n",
        "\n",
        "\tfor i in range(n_batches):\n",
        "\t\t#print('batch ', i)\n",
        "\t\tprint(' batch {0}/{1}'.format(i + 1, n_batches), end='\\r')\n",
        "\t\tstart = i*batch \n",
        "\t\tend = min(start+batch, n_data)\n",
        "\t\tbatch_X = X_test[start:end]\n",
        "\t\tbatch_Y = Y_test[start:end]\n",
        "\n",
        "\t\tbatch_loss, batch_acc = sess.run([env.loss, env.acc], feed_dict={env.x: batch_X, env.y: batch_Y})\n",
        "\n",
        "\t\ttotalAcc = totalAcc + batch_acc*(end-start)\n",
        "\t\ttotalLoss = totalLoss + batch_loss*(end-start)\n",
        "\t\t\n",
        "\n",
        "\ttotalAcc = totalAcc/n_data\n",
        "\ttotalLoss = totalLoss/n_data\n",
        "\tprint('acc: {0:.3f} loss: {1:.3f}'.format(totalAcc, totalLoss))\n",
        "\treturn totalAcc, totalLoss"
      ],
      "execution_count": 0,
      "outputs": []
    },
    {
      "cell_type": "code",
      "metadata": {
        "id": "6CIc6OOnI_VK",
        "colab_type": "code",
        "colab": {}
      },
      "source": [
        "def perform_fgsm(sess, env, X_data, epochs=1, eps=0.01, batch_size=32):\n",
        "    print('\\nGenerating adversarials via FGSM')\n",
        "\n",
        "    n_sample = X_data.shape[0]\n",
        "    n_batch = int((n_sample + batch_size - 1) / batch_size)\n",
        "    X_adv = np.empty_like(X_data)\n",
        "\n",
        "    for batch in range(n_batch):\n",
        "        print(' batch {0}/{1}'.format(batch + 1, n_batch), end='\\r')\n",
        "        start = batch * batch_size\n",
        "        end = min(n_sample, start + batch_size)\n",
        "        adv = sess.run(env.x_fgsm, feed_dict={\n",
        "            env.x: X_data[start:end],\n",
        "            env.fgsm_eps: eps,\n",
        "            env.fgsm_epochs: epochs})\n",
        "        X_adv[start:end] = adv\n",
        "    print()\n",
        "\n",
        "    return X_adv"
      ],
      "execution_count": 0,
      "outputs": []
    },
    {
      "cell_type": "code",
      "metadata": {
        "id": "kMNDz3K7I_VN",
        "colab_type": "code",
        "outputId": "79b56dfa-f91a-4cf3-e3a7-5f374d50cca9",
        "colab": {
          "base_uri": "https://localhost:8080/",
          "height": 457
        }
      },
      "source": [
        "sess = tf.InteractiveSession()\n",
        "sess.run(tf.global_variables_initializer())\n",
        "sess.run(tf.local_variables_initializer())\n",
        "\n",
        "training(sess, env, X_train, y_train, shuffle=True, batch=32, epochs=10)\n",
        "evaluate(sess, env, X_test, y_test)\n",
        "\n",
        "\n",
        "X_adv = perform_fgsm(sess,env, X_test, eps=0.01, epochs=3)\n",
        "\n",
        "\t"
      ],
      "execution_count": 0,
      "outputs": [
        {
          "output_type": "stream",
          "text": [
            "(4575, 32, 32, 3)\n",
            "epoch number:  1\n",
            "acc: 0.713 loss: 1.125\n",
            "epoch number:  2\n",
            "acc: 0.865 loss: 0.506\n",
            "epoch number:  3\n",
            "acc: 0.887 loss: 0.376\n",
            "epoch number:  4\n",
            "acc: 0.898 loss: 0.362\n",
            "epoch number:  5\n",
            "acc: 0.874 loss: 0.449\n",
            "epoch number:  6\n",
            "acc: 0.899 loss: 0.373\n",
            "epoch number:  7\n",
            "acc: 0.906 loss: 0.345\n",
            "epoch number:  8\n",
            "acc: 0.895 loss: 0.372\n",
            "epoch number:  9\n",
            "acc: 0.892 loss: 0.469\n",
            "epoch number:  10\n",
            "acc: 0.927 loss: 0.333\n",
            "acc: 0.927 loss: 0.333\n",
            "\n",
            "Generating adversarials via FGSM\n",
            " batch 79/79\n"
          ],
          "name": "stdout"
        }
      ]
    },
    {
      "cell_type": "code",
      "metadata": {
        "id": "wowFCcxoRBeA",
        "colab_type": "code",
        "outputId": "b98e2093-bbf1-478c-c0a5-0b3950e4a22c",
        "colab": {
          "base_uri": "https://localhost:8080/",
          "height": 68
        }
      },
      "source": [
        ""
      ],
      "execution_count": 0,
      "outputs": [
        {
          "output_type": "stream",
          "text": [
            "\n",
            "Generating adversarials via FGSM\n",
            " batch 79/79\n"
          ],
          "name": "stdout"
        }
      ]
    },
    {
      "cell_type": "code",
      "metadata": {
        "id": "wMhBDGoLiDEx",
        "colab_type": "code",
        "outputId": "7f6e3dd4-ce81-475a-9bd1-8edff59bcdd1",
        "colab": {
          "base_uri": "https://localhost:8080/",
          "height": 1000
        }
      },
      "source": [
        "X_adv = perform_fgsm(sess,env, X_test, eps=.02, epochs=3)\n",
        "for i in range(12,1000,100):\n",
        "  plt.subplot(2, 2,2)\n",
        "  plt.imshow(X_test[i])\n",
        "  plt.imshow(X_adv[i])\n",
        "  plot_image = np.concatenate((X_test[i], X_adv[i]), axis=1)\n",
        "  plt.imshow(plot_image)\n",
        "  plt.show()\n",
        "evaluate(sess, env, X_adv, y_test)\n"
      ],
      "execution_count": 0,
      "outputs": [
        {
          "output_type": "stream",
          "text": [
            "\n",
            "Generating adversarials via FGSM\n",
            " batch 79/79\n"
          ],
          "name": "stdout"
        },
        {
          "output_type": "display_data",
          "data": {
            "image/png": "[encoded data removed]",
            "text/plain": [
              "<Figure size 432x288 with 1 Axes>"
            ]
          },
          "metadata": {
            "tags": []
          }
        },
        {
          "output_type": "display_data",
          "data": {
            "image/png": "[encoded data removed]",
            "text/plain": [
              "<Figure size 432x288 with 1 Axes>"
            ]
          },
          "metadata": {
            "tags": []
          }
        },
        {
          "output_type": "display_data",
          "data": {
            "image/png": "[encoded data removed]",
            "text/plain": [
              "<Figure size 432x288 with 1 Axes>"
            ]
          },
          "metadata": {
            "tags": []
          }
        },
        {
          "output_type": "display_data",
          "data": {
            "image/png": "[encoded data removed]",
            "text/plain": [
              "<Figure size 432x288 with 1 Axes>"
            ]
          },
          "metadata": {
            "tags": []
          }
        },
        {
          "output_type": "display_data",
          "data": {
            "image/png": "[encoded data removed]",
            "text/plain": [
              "<Figure size 432x288 with 1 Axes>"
            ]
          },
          "metadata": {
            "tags": []
          }
        },
        {
          "output_type": "display_data",
          "data": {
            "image/png": "[encoded data removed]",
            "text/plain": [
              "<Figure size 432x288 with 1 Axes>"
            ]
          },
          "metadata": {
            "tags": []
          }
        },
        {
          "output_type": "display_data",
          "data": {
            "image/png": "[encoded data removed]",
            "text/plain": [
              "<Figure size 432x288 with 1 Axes>"
            ]
          },
          "metadata": {
            "tags": []
          }
        },
        {
          "output_type": "display_data",
          "data": {
            "image/png": "[encoded data removed]",
            "text/plain": [
              "<Figure size 432x288 with 1 Axes>"
            ]
          },
          "metadata": {
            "tags": []
          }
        },
        {
          "output_type": "display_data",
          "data": {
            "image/png": "[encoded data removed]",
            "text/plain": [
              "<Figure size 432x288 with 1 Axes>"
            ]
          },
          "metadata": {
            "tags": []
          }
        },
        {
          "output_type": "display_data",
          "data": {
            "image/png": "[encoded data removed]",
            "text/plain": [
              "<Figure size 432x288 with 1 Axes>"
            ]
          },
          "metadata": {
            "tags": []
          }
        },
        {
          "output_type": "stream",
          "text": [
            " batch 1/78\r batch 2/78\r batch 3/78\r batch 4/78\r batch 5/78\r batch 6/78\r batch 7/78\r batch 8/78\r batch 9/78\r batch 10/78\r batch 11/78\r batch 12/78\r batch 13/78\r batch 14/78\r batch 15/78\r batch 16/78\r batch 17/78\r batch 18/78\r batch 19/78\r batch 20/78\r batch 21/78\r batch 22/78\r batch 23/78\r batch 24/78\r batch 25/78\r batch 26/78\r batch 27/78\r batch 28/78\r batch 29/78\r batch 30/78\r batch 31/78\r batch 32/78\r batch 33/78\r batch 34/78\r batch 35/78\r batch 36/78\r batch 37/78\r batch 38/78\r batch 39/78\r batch 40/78\r batch 41/78\r batch 42/78\r batch 43/78\r batch 44/78\r batch 45/78\r batch 46/78\r batch 47/78\r batch 48/78\r batch 49/78\r batch 50/78\r batch 51/78\r batch 52/78\r batch 53/78\r batch 54/78\r batch 55/78\r batch 56/78\r batch 57/78\r batch 58/78\r batch 59/78\r batch 60/78\r batch 61/78\r batch 62/78\r batch 63/78\r batch 64/78\r batch 65/78\r batch 66/78\r batch 67/78\r batch 68/78\r batch 69/78\r batch 70/78\r batch 71/78\r batch 72/78\r batch 73/78\r batch 74/78\r batch 75/78\r batch 76/78\r batch 77/78\r batch 78/78\racc: 0.178 loss: 9.022\n"
          ],
          "name": "stdout"
        },
        {
          "output_type": "execute_result",
          "data": {
            "text/plain": [
              "(0.17777777777777778, 9.022359997885568)"
            ]
          },
          "metadata": {
            "tags": []
          },
          "execution_count": 17
        }
      ]
    }
  ]
}